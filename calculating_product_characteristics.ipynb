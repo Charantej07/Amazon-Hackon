{
 "cells": [
  {
   "cell_type": "code",
   "execution_count": 3,
   "metadata": {},
   "outputs": [
    {
     "name": "stdout",
     "output_type": "stream",
     "text": [
      "Calculating product average sentiment...\n",
      "Calculating number of reviews given to each product...\n",
      "Product characteristics saved to product_characteristics.csv.\n"
     ]
    }
   ],
   "source": [
    "import pandas as pd\n",
    "from tqdm import tqdm\n",
    "\n",
    "# Load the processed data containing reviews\n",
    "df = pd.read_csv('processed_data_with_sentiment.csv')\n",
    "\n",
    "# Calculate product average sentiment\n",
    "print(\"Calculating product average sentiment...\")\n",
    "product_average_sentiment = df.groupby('asin')['sentiment_score'].mean().reset_index()\n",
    "\n",
    "product_average_sentiment.columns = ['asin', 'product_average_sentiment']\n",
    "\n",
    "# Calculate number of reviews given to each product\n",
    "print(\"Calculating number of reviews given to each product...\")\n",
    "num_reviews_given_to_product = df['asin'].value_counts().reset_index()\n",
    "\n",
    "num_reviews_given_to_product.columns = ['asin', 'num_reviews_given_to_product']\n",
    "\n",
    "# Merge product characteristics\n",
    "product_characteristics = pd.merge(product_average_sentiment, num_reviews_given_to_product, on='asin', how='inner')\n",
    "\n",
    "# Save to CSV\n",
    "product_characteristics.to_csv('product_characteristics.csv', index=False)\n",
    "\n",
    "print(\"Product characteristics saved to product_characteristics.csv.\")\n"
   ]
  }
 ],
 "metadata": {
  "kernelspec": {
   "display_name": "Python 3",
   "language": "python",
   "name": "python3"
  },
  "language_info": {
   "codemirror_mode": {
    "name": "ipython",
    "version": 3
   },
   "file_extension": ".py",
   "mimetype": "text/x-python",
   "name": "python",
   "nbconvert_exporter": "python",
   "pygments_lexer": "ipython3",
   "version": "3.8.10"
  }
 },
 "nbformat": 4,
 "nbformat_minor": 2
}
