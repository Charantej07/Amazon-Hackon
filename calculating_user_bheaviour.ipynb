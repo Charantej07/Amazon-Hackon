{
 "cells": [
  {
   "cell_type": "code",
   "execution_count": 6,
   "metadata": {},
   "outputs": [
    {
     "name": "stdout",
     "output_type": "stream",
     "text": [
      "Calculating sentiment scores for all reviews...\n"
     ]
    },
    {
     "name": "stderr",
     "output_type": "stream",
     "text": [
      "Processing reviews: 100%|██████████| 2500939/2500939 [04:56<00:00, 8446.73it/s] \n"
     ]
    },
    {
     "name": "stdout",
     "output_type": "stream",
     "text": [
      "Calculating average sentiment deviation per user...\n",
      "Calculating the number of reviews given by each user...\n",
      "Modified user behavior data saved to 'user_behavior_modified.csv'\n"
     ]
    }
   ],
   "source": [
    "import pandas as pd\n",
    "from tqdm import tqdm\n",
    "from vaderSentiment.vaderSentiment import SentimentIntensityAnalyzer\n",
    "\n",
    "# Load the user behavior dataset\n",
    "user_behavior = pd.read_csv('user_behavior.csv')\n",
    "\n",
    "# Load the main dataset\n",
    "df = pd.read_csv('processed_data_with_sentiment.csv')\n",
    "\n",
    "# Initialize sentiment analyzer\n",
    "analyzer = SentimentIntensityAnalyzer()\n",
    "\n",
    "# Drop the 'average_deviation_from_product' column\n",
    "\n",
    "# Rename the specified columns\n",
    "user_behavior = user_behavior.rename(columns={\n",
    "    'average_sentiment': 'user_average_sentiment',\n",
    "    'sentiment_deviation': 'user_sentiment_deviation',\n",
    "    'average_review_length': 'user_average_review_length'\n",
    "})\n",
    "\n",
    "# Ensure 'user_sentiment_deviation' column is dropped if it exists\n",
    "if 'user_sentiment_deviation' in user_behavior.columns:\n",
    "    user_behavior = user_behavior.drop(columns=['user_sentiment_deviation'])\n",
    "\n",
    "# Calculate sentiment scores for all reviews in df\n",
    "print(\"Calculating sentiment scores for all reviews...\")\n",
    "tqdm.pandas(desc=\"Processing reviews\")\n",
    "df['sentiment_score'] = df['cleaned_text'].progress_apply(lambda text: analyzer.polarity_scores(text)['compound'] if isinstance(text, str) else 0)\n",
    "\n",
    "# Calculate average sentiment score per user\n",
    "user_average_sentiments = df.groupby('user_id')['sentiment_score'].mean().reset_index()\n",
    "user_average_sentiments.columns = ['user_id', 'user_average_sentiment']\n",
    "\n",
    "# Merge the average sentiment score with user_behavior\n",
    "user_behavior = pd.merge(user_behavior, user_average_sentiments, on='user_id', how='left')\n",
    "\n",
    "# Calculate the deviation of each review sentiment from the user's average sentiment\n",
    "df = pd.merge(df, user_average_sentiments, on='user_id', how='left')\n",
    "df['user_sentiment_deviation'] = abs(df['sentiment_score'] - df['user_average_sentiment'])\n",
    "\n",
    "# Calculate average sentiment deviation per user\n",
    "print(\"Calculating average sentiment deviation per user...\")\n",
    "user_sentiment_deviations = df.groupby('user_id')['user_sentiment_deviation'].mean().reset_index()\n",
    "user_sentiment_deviations.columns = ['user_id', 'user_sentiment_deviation']\n",
    "\n",
    "# Merge the sentiment deviation with user_behavior\n",
    "user_behavior = pd.merge(user_behavior, user_sentiment_deviations, on='user_id', how='left')\n",
    "\n",
    "# Calculate the number of reviews given by each user\n",
    "print(\"Calculating the number of reviews given by each user...\")\n",
    "review_counts = df['user_id'].value_counts().reset_index()\n",
    "review_counts.columns = ['user_id', 'num_reviews_given_by_user']\n",
    "\n",
    "# Merge the review counts with the user_behavior dataframe\n",
    "user_behavior = pd.merge(user_behavior, review_counts, on='user_id', how='left')\n",
    "\n",
    "# Save the modified dataframe to a new CSV file\n",
    "user_behavior.to_csv('user_behavior_modified.csv', index=False)\n",
    "\n",
    "print(\"Modified user behavior data saved to 'user_behavior_modified.csv'\")\n",
    "\n",
    "\n"
   ]
  },
  {
   "cell_type": "code",
   "execution_count": 7,
   "metadata": {},
   "outputs": [
    {
     "name": "stdout",
     "output_type": "stream",
     "text": [
      "Cleaned user behavior dataset saved.\n"
     ]
    }
   ],
   "source": [
    "\n",
    "# Rename the specified columns\n",
    "user_behavior = user_behavior.rename(columns={\n",
    "    'num_reviews_given_by_user_x': 'num_reviews_given_by_user',\n",
    "    'user_average_sentiment_x': 'user_average_sentiment'\n",
    "})\n",
    "\n",
    "# Drop the duplicated columns\n",
    "user_behavior = user_behavior.drop(columns=[\n",
    "    'user_average_sentiment_y',\n",
    "    'num_reviews_given_by_user_y'\n",
    "])\n",
    "\n",
    "\n",
    "\n",
    "# Merge review counts back to user_behavior\n",
    "# user_behavior = pd.merge(user_behavior, review_counts, on='user_id', how='left')\n",
    "\n",
    "# Save the cleaned dataset\n",
    "user_behavior.to_csv('user_behavior.csv', index=False)\n",
    "\n",
    "print(\"Cleaned user behavior dataset saved.\")\n"
   ]
  }
 ],
 "metadata": {
  "kernelspec": {
   "display_name": "Python 3",
   "language": "python",
   "name": "python3"
  },
  "language_info": {
   "codemirror_mode": {
    "name": "ipython",
    "version": 3
   },
   "file_extension": ".py",
   "mimetype": "text/x-python",
   "name": "python",
   "nbconvert_exporter": "python",
   "pygments_lexer": "ipython3",
   "version": "3.8.10"
  }
 },
 "nbformat": 4,
 "nbformat_minor": 2
}
